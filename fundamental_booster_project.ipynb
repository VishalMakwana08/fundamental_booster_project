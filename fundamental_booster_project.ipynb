{
 "cells": [
  {
   "cell_type": "code",
   "execution_count": 13,
   "id": "683f1b8b",
   "metadata": {},
   "outputs": [
    {
     "name": "stdout",
     "output_type": "stream",
     "text": [
      "Welcome This Is Personal Data Collector Python Program Created By 'Vishal Makwana'\n"
     ]
    }
   ],
   "source": [
    "#welcome message\n",
    "    \n",
    "print(\"Welcome This Is Personal Data Collector Python Program Created By 'Vishal Makwana'\")"
   ]
  },
  {
   "cell_type": "code",
   "execution_count": 14,
   "id": "b23ddd58",
   "metadata": {},
   "outputs": [],
   "source": [
    "#collect information from the user\n",
    "name=input(\"Please Enter Your Name:\")\n",
    "age=int(input(\"Please Enter Your Age\"))\n",
    "height=float(input(\"Please Eneter Your Height In Meters:\"))\n",
    "num=int(input(\"Please Enter Your Favorite Number:\"))"
   ]
  },
  {
   "cell_type": "code",
   "execution_count": null,
   "id": "2f98ab44",
   "metadata": {},
   "outputs": [
    {
     "name": "stdout",
     "output_type": "stream",
     "text": [
      "Name: vishal ( <class 'str'> Memory Address: 2163301398256\n",
      "Age: 22 ( <class 'int'> Memory Address: 140731718923720\n",
      "Height: 1.6 ( <class 'float'> Memory Address: 2163288939024\n",
      "Favorite Number: 9 ( <class 'int'> Memory Address: 140731718923304\n",
      "\n",
      "Your Birth Year Is Approximately: 2003 (Based On Your Age Of 22 )\n"
     ]
    }
   ],
   "source": [
    "#Data Processing\n",
    "print(\"Name:\",name,\"(\",type(name),\"Memory Address:\",id(name))\n",
    "print(\"Age:\",age,\"(\",type(age),\"Memory Address:\",id(age))\n",
    "print(\"Height:\",height,\"(\",type(height),\"Memory Address:\",id(height))\n",
    "print(\"Favorite Number:\",num,\"(\",type(num),\"Memory Address:\",id(num))\n",
    "current_year=int(input(\"Enter Current Year:\"))\n",
    "print(\"\\nYour Birth Year Is Approximately:\",(current_year-age),\"(Based On Your Age Of\",age,\")\")"
   ]
  },
  {
   "cell_type": "code",
   "execution_count": null,
   "id": "dbd52ee1",
   "metadata": {},
   "outputs": [
    {
     "ename": "IndentationError",
     "evalue": "unexpected indent (1083407691.py, line 1)",
     "output_type": "error",
     "traceback": [
      "  \u001b[36mCell\u001b[39m\u001b[36m \u001b[39m\u001b[32mIn[16]\u001b[39m\u001b[32m, line 1\u001b[39m\n\u001b[31m    \u001b[39m\u001b[31mprint(\"Dear User Here Are Your Information That Are Store Safely...\")\u001b[39m\n    ^\n\u001b[31mIndentationError\u001b[39m\u001b[31m:\u001b[39m unexpected indent\n"
     ]
    }
   ],
   "source": [
    "#Display Results\n",
    "print(\"Dear User Here Are Your Information That Are Store Safely...\")\n",
    "print(\"Your Name Is:\",name)\n",
    "print(\"Your Age Is:\",age)\n",
    "print(\"Your Height Is:\",height)\n",
    "print(\"Your Favorite Number:\",num)\n",
    "print(\"\\nDear User Thank You For Our Use Personal Data Collector.Good Bye!\")"
   ]
  },
  {
   "cell_type": "code",
   "execution_count": null,
   "id": "25ffd94d",
   "metadata": {},
   "outputs": [],
   "source": []
  }
 ],
 "metadata": {
  "kernelspec": {
   "display_name": "Python 3",
   "language": "python",
   "name": "python3"
  },
  "language_info": {
   "codemirror_mode": {
    "name": "ipython",
    "version": 3
   },
   "file_extension": ".py",
   "mimetype": "text/x-python",
   "name": "python",
   "nbconvert_exporter": "python",
   "pygments_lexer": "ipython3",
   "version": "3.11.9"
  }
 },
 "nbformat": 4,
 "nbformat_minor": 5
}
